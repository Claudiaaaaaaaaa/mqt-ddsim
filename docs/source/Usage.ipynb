{
 "cells": [
  {
   "cell_type": "code",
   "execution_count": null,
   "id": "f510bba4ad623b40",
   "metadata": {},
   "outputs": [],
   "source": [
    "from mqt.ddsim import DDSIMProvider\n",
    "\n",
    "provider = DDSIMProvider()\n",
    "\n",
    "from qiskit import QuantumCircuit\n",
    "\n",
    "circ = QuantumCircuit(2)\n",
    "circ.h(0)\n",
    "circ.cx(0, 1)\n",
    "circ.measure_all()\n",
    "circ.draw(output=\"mpl\", style=\"iqp\")"
   ]
  },
  {
   "cell_type": "markdown",
   "id": "ef64ecb9",
   "metadata": {},
   "source": [
    "## Usage as Qiskit Backends\n",
    "\n",
    "The DDSIMProvider currently has seven backends\n",
    "\n",
    "- `QasmSimulator` simulates a circuit and generates the given number of shots\n",
    "- `StatevectorSimulator` simulates the circuit and returns the statevector\n",
    "- `HybridQasmSimulator` simulates a circuit in parallel using a hybrid Schrödinger-Feynman technique and generates the given number of shots\n",
    "- `HybridStatevectorSimulator` simulates the circuit in parallel using a hybrid Schrödinger-Feynman technique and returns the statevector\n",
    "- `PathQasmSimulator` simulates a circuit by potential using a different order of multiplying operations and operation/state and generates the requested number of shots\n",
    "- `PathStatevectorSimulator` simulates a circuit by potential using a different order of multiplying operations and operation/state and returns the statevector\n",
    "- `UnitarySimulator` constructs the unitary functionality of a circuit and returns the corresponding unitary matrix"
   ]
  },
  {
   "cell_type": "markdown",
   "id": "1dbb7dbe",
   "metadata": {},
   "source": [
    "### PathQasmSimulator for Sampling"
   ]
  },
  {
   "cell_type": "code",
   "execution_count": null,
   "id": "c5d19cd6",
   "metadata": {},
   "outputs": [],
   "source": [
    "backend = provider.get_backend(\"path_sim_qasm_simulator\")\n",
    "print(f\"Backend version: {backend.backend_version}\")\n",
    "job = backend.run(circ, shots=100000)  # uses the sequential strategy b\n",
    "result = job.result()\n",
    "counts = result.get_counts(circ)\n",
    "print(counts)"
   ]
  }
 ],
 "metadata": {
  "kernelspec": {
   "display_name": "Python 3 (ipykernel)",
   "language": "python",
   "name": "python3"
  },
  "language_info": {
   "codemirror_mode": {
    "name": "ipython",
    "version": 3
   },
   "file_extension": ".py",
   "mimetype": "text/x-python",
   "name": "python",
   "nbconvert_exporter": "python",
   "pygments_lexer": "ipython3"
  }
 },
 "nbformat": 4,
 "nbformat_minor": 5
}
